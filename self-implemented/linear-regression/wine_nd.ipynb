{
 "cells": [
  {
   "attachments": {},
   "cell_type": "markdown",
   "metadata": {},
   "source": [
    "### Imports"
   ]
  },
  {
   "cell_type": "code",
   "execution_count": 1,
   "metadata": {},
   "outputs": [],
   "source": [
    "import pandas as pd\n",
    "import numpy as np\n",
    "import matplotlib.pyplot as plt\n",
    "from mpl_toolkits.mplot3d import Axes3D"
   ]
  },
  {
   "attachments": {},
   "cell_type": "markdown",
   "metadata": {},
   "source": [
    "### Data preparation"
   ]
  },
  {
   "cell_type": "code",
   "execution_count": 2,
   "metadata": {},
   "outputs": [],
   "source": [
    "df = pd.read_csv(\"../db/wine/winequality-red.csv\", delimiter=\";\")\n",
    "\n",
    "# normalization\n",
    "df.iloc[:,0:-1] = df.iloc[:,0:-1].apply(lambda x: (x-x.mean())/ x.std(), axis=0)\n",
    "\n",
    "train=df.sample(frac=0.7, random_state=777)\n",
    "test=df.drop(train.index)\n",
    "\n",
    "X = train[['fixed acidity', 'volatile acidity', 'citric acid', 'residual sugar', 'chlorides', 'free sulfur dioxide', 'total sulfur dioxide', 'density', 'pH', 'sulphates', 'alcohol']].values\n",
    "Y = train['quality']"
   ]
  },
  {
   "attachments": {},
   "cell_type": "markdown",
   "metadata": {},
   "source": [
    "### Perceptron class"
   ]
  },
  {
   "cell_type": "code",
   "execution_count": 3,
   "metadata": {},
   "outputs": [],
   "source": [
    "class Perceptron:\n",
    "    def __init__(self, in_size):\n",
    "        self.epochs = 5000\n",
    "        # initialize weigth and bias\n",
    "        self.weigth = np.zeros(in_size)\n",
    "        self.bias = 0\n",
    "    \n",
    "    def learn(self, x, y):\n",
    "        self.x = np.array(x)\n",
    "        self.y = np.array(y)\n",
    "        self.n = len(self.x)\n",
    "        \n",
    "        costs = []\n",
    "        for epoch in range(0, self.epochs):\n",
    "            self._update_parameters()\n",
    "            if epoch % 1 == 0:\n",
    "                costs.append([epoch, self._cost()])\n",
    "        return np.array(costs)\n",
    "\n",
    "    def predict(self, x):\n",
    "        return np.sum(x * self.weigth, axis=1) + self.bias\n",
    "\n",
    "    def _update_parameters(self, alpha=0.05):\n",
    "        del_w, del_b = self._gradient()\n",
    "        self.weigth -= del_w * alpha\n",
    "        self.bias -= del_b * alpha\n",
    "\n",
    "    def _diff(self):\n",
    "        yT = np.repeat(self.y, self.x.shape[1]).reshape(self.x.shape)\n",
    "        return (self.weigth * self.x + self.bias) - yT\n",
    "\n",
    "    def _cost(self):\n",
    "        return np.sum(self._diff() ** 2)\n",
    "    \n",
    "    def _gradient(self):\n",
    "        diff = self._diff()\n",
    "        del_w = 1/self.n * 2 * np.sum(self.x * diff, axis=0) \n",
    "        del_b = 1/self.n * 2 * np.sum(diff)\n",
    "\n",
    "        return del_w, del_b"
   ]
  },
  {
   "attachments": {},
   "cell_type": "markdown",
   "metadata": {},
   "source": [
    "### Learn"
   ]
  },
  {
   "cell_type": "code",
   "execution_count": 6,
   "metadata": {},
   "outputs": [
    {
     "name": "stdout",
     "output_type": "stream",
     "text": [
      "[[4995.         7459.33551969]\n",
      " [4996.         7459.33551969]\n",
      " [4997.         7459.33551969]\n",
      " [4998.         7459.33551969]\n",
      " [4999.         7459.33551969]]\n"
     ]
    },
    {
     "data": {
      "text/plain": [
       "[<matplotlib.lines.Line2D at 0x24049ad7790>]"
      ]
     },
     "execution_count": 6,
     "metadata": {},
     "output_type": "execute_result"
    },
    {
     "data": {
      "image/png": "[encoded data removed]",
      "text/plain": [
       "<Figure size 640x480 with 1 Axes>"
      ]
     },
     "metadata": {},
     "output_type": "display_data"
    }
   ],
   "source": [
    "p = Perceptron(in_size=X.shape[1])\n",
    "costs = p.learn(X, Y)\n",
    "print(costs[-5:])\n",
    "\n",
    "plt.xscale('symlog')\n",
    "plt.xlabel('Epoch')\n",
    "plt.ylabel('Total Loss')\n",
    "plt.plot(costs[:, 0], costs[:, 1])"
   ]
  },
  {
   "attachments": {},
   "cell_type": "markdown",
   "metadata": {},
   "source": [
    "### Test"
   ]
  },
  {
   "cell_type": "code",
   "execution_count": 5,
   "metadata": {},
   "outputs": [
    {
     "data": {
      "text/plain": [
       "0.5066453887994523"
      ]
     },
     "execution_count": 5,
     "metadata": {},
     "output_type": "execute_result"
    }
   ],
   "source": [
    "test_X = test.drop('quality', axis=1).values\n",
    "test_Y = test['quality'].values\n",
    "\n",
    "predicted = p.predict(test_X)\n",
    "\n",
    "diff = (predicted - test_Y) ** 2\n",
    "diff.sum() * 1 / len(test_Y)"
   ]
  }
 ],
 "metadata": {
  "kernelspec": {
   "display_name": "Python 3",
   "language": "python",
   "name": "python3"
  },
  "language_info": {
   "codemirror_mode": {
    "name": "ipython",
    "version": 3
   },
   "file_extension": ".py",
   "mimetype": "text/x-python",
   "name": "python",
   "nbconvert_exporter": "python",
   "pygments_lexer": "ipython3",
   "version": "3.11.3"
  },
  "orig_nbformat": 4
 },
 "nbformat": 4,
 "nbformat_minor": 2
}
